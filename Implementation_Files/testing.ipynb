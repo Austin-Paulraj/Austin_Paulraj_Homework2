{
 "cells": [
  {
   "cell_type": "code",
   "execution_count": 1,
   "id": "1ce08782",
   "metadata": {},
   "outputs": [],
   "source": [
    "import torch\n",
    "import numpy as np\n",
    "import pandas as pd\n",
    "import os\n",
    "from torchvision.datasets import MNIST\n",
    "import matplotlib.pyplot as plt\n",
    "from torcheval import metrics\n",
    "\n",
    "\n",
    "import pickle\n",
    "import torch.nn.functional as F\n",
    "from torch import nn\n",
    "from sklearn.metrics import roc_auc_score\n",
    "\n",
    "\n",
    "from model_definitions import *\n",
    "from helper_class_definition import *"
   ]
  },
  {
   "cell_type": "code",
   "execution_count": 2,
   "id": "4dda81ec",
   "metadata": {},
   "outputs": [],
   "source": [
    "class RESNet(torch.nn.Module):\n",
    "    def __init__(self):\n",
    "        super().__init__()\n",
    "        res_net_model = torch.hub.load('pytorch/vision:v0.10.0', 'resnet18', pretrained=False)\n",
    "        self.res_net = torch.nn.Sequential(*(list(res_net_model.children())[1:-2]))\n",
    "        self.in_model = nn.Conv2d(1,64,7,2,3)\n",
    "        self.out_model = nn.Sequential(\n",
    "            nn.Flatten(),\n",
    "            nn.Linear(25088,10))\n",
    "\n",
    "    def forward(self, x):\n",
    "        x = self.in_model(x)\n",
    "        x = self.res_net(x)\n",
    "        return self.out_model(x)"
   ]
  },
  {
   "cell_type": "code",
   "execution_count": 3,
   "id": "b696f0ed",
   "metadata": {},
   "outputs": [],
   "source": [
    "class VGGNet(torch.nn.Module):\n",
    "    def __init__(self):\n",
    "        super().__init__()\n",
    "        self.in_model = nn.Conv2d(1,64,3,1,1)\n",
    "        self.vgg_net = nn.Sequential(\n",
    "            nn.Conv2d(64,64,3,1,1),\n",
    "            nn.MaxPool2d(3,2,1),\n",
    "            nn.Conv2d(64,128,3,1,1),\n",
    "            nn.Conv2d(128,128,3,1,1),\n",
    "            nn.MaxPool2d(3,2,1),\n",
    "            nn.Conv2d(128,256,3,1,1),\n",
    "            nn.Conv2d(256,256,3,1,1),\n",
    "            nn.Conv2d(256,256,3,1,1),\n",
    "            nn.MaxPool2d(3,2,1),\n",
    "            nn.Conv2d(256,512,3,1,1),\n",
    "            nn.Conv2d(512,512,3,1,1),\n",
    "            nn.Conv2d(512,512,3,1,1),\n",
    "            nn.MaxPool2d(3,2,1),\n",
    "            nn.Conv2d(512,512,3,1,1),\n",
    "            nn.Conv2d(512,512,3,1,1),\n",
    "            nn.Conv2d(512,512,3,1,1),\n",
    "            nn.MaxPool2d(3,2,1),\n",
    "            nn.Flatten(),\n",
    "            nn.Linear(25088, 4096),\n",
    "            nn.Linear(4096, 4096),\n",
    "            nn.Linear(4096, 10)\n",
    "        )\n",
    "\n",
    "    def forward(self, x):\n",
    "        x = self.in_model(x)\n",
    "        x = self.vgg_net(x)\n",
    "        return x"
   ]
  },
  {
   "cell_type": "code",
   "execution_count": 4,
   "id": "09e9aca9",
   "metadata": {},
   "outputs": [
    {
     "data": {
      "text/plain": [
       "(2000,)"
      ]
     },
     "execution_count": 4,
     "metadata": {},
     "output_type": "execute_result"
    }
   ],
   "source": [
    "with open('C://Austin//U_Cinci//Sem3//DeepLearning//Austin_Paulraj_Homework2//Implementation_Files//processed_dataset.pickle', 'rb') as handle:\n",
    "    total_dataset = pickle.load(handle)\n",
    "\n",
    "model = torch.load(\"C://Austin//U_Cinci//Sem3//DeepLearning//Austin_Paulraj_Homework2//Implementation_Files//saved_models//run1//ConvNet.pickle\")\n",
    "\n",
    "y_true = total_dataset[\"y\"][\"test\"][:2000]\n",
    "y_true = np.array(y_true.detach())\n",
    "y_true.shape"
   ]
  },
  {
   "cell_type": "code",
   "execution_count": 5,
   "id": "7df5e7fe",
   "metadata": {},
   "outputs": [
    {
     "data": {
      "text/plain": [
       "(2000,)"
      ]
     },
     "execution_count": 5,
     "metadata": {},
     "output_type": "execute_result"
    }
   ],
   "source": [
    "softmax = nn.Softmax(0)\n",
    "y_pred = model(total_dataset[\"x\"][\"test\"][:2000].reshape(2000,1,28,28))\n",
    "y_pred = np.array(softmax(y_pred).detach())\n",
    "y_pred = y_pred.argmax(axis=1)\n",
    "\n",
    "y_pred.shape"
   ]
  },
  {
   "cell_type": "code",
   "execution_count": 6,
   "id": "4f0cb91a",
   "metadata": {},
   "outputs": [
    {
     "name": "stdout",
     "output_type": "stream",
     "text": [
      "ROC+AUC score for Class=0: 0.96\n",
      "ROC+AUC score for Class=1: 0.989\n",
      "ROC+AUC score for Class=2: 0.908\n",
      "ROC+AUC score for Class=3: 0.72\n",
      "ROC+AUC score for Class=4: 0.843\n",
      "ROC+AUC score for Class=5: 0.786\n",
      "ROC+AUC score for Class=6: 0.98\n",
      "ROC+AUC score for Class=7: 0.806\n",
      "ROC+AUC score for Class=8: 0.933\n",
      "ROC+AUC score for Class=9: 0.952\n"
     ]
    }
   ],
   "source": [
    "for i in range(10):\n",
    "    y_predi = np.array([(x==i) for x in y_pred])\n",
    "    y_truei = np.array([(x==i) for x in y_true])\n",
    "    print(\"ROC+AUC score for Class=\"+str(i)+\":\", np.round(roc_auc_score(y_truei, y_predi),3))"
   ]
  },
  {
   "cell_type": "code",
   "execution_count": 7,
   "id": "7cd329d0",
   "metadata": {},
   "outputs": [],
   "source": [
    "model2 = torch.load(\"C://Austin//U_Cinci//Sem3//DeepLearning//Austin_Paulraj_Homework2//Implementation_Files//saved_models//run1//DNNNet.pickle\")\n",
    "y_pred = model2(total_dataset[\"x\"][\"test\"][:2000].reshape(2000,784))\n",
    "y_pred = np.array(softmax(y_pred).detach())\n",
    "y_pred = y_pred.argmax(axis=1)"
   ]
  },
  {
   "cell_type": "code",
   "execution_count": 8,
   "id": "3f34826f",
   "metadata": {},
   "outputs": [
    {
     "name": "stdout",
     "output_type": "stream",
     "text": [
      "ROC+AUC score for Class=0: 0.914\n",
      "ROC+AUC score for Class=1: 0.988\n",
      "ROC+AUC score for Class=2: 0.846\n",
      "ROC+AUC score for Class=3: 0.827\n",
      "ROC+AUC score for Class=4: 0.974\n",
      "ROC+AUC score for Class=5: 0.809\n",
      "ROC+AUC score for Class=6: 0.895\n",
      "ROC+AUC score for Class=7: 0.958\n",
      "ROC+AUC score for Class=8: 0.939\n",
      "ROC+AUC score for Class=9: 0.956\n"
     ]
    }
   ],
   "source": [
    "for i in range(10):\n",
    "    y_predi = np.array([(x==i) for x in y_pred])\n",
    "    y_truei = np.array([(x==i) for x in y_true])\n",
    "    print(\"ROC+AUC score for Class=\"+str(i)+\":\", np.round(roc_auc_score(y_truei, y_predi),3))"
   ]
  },
  {
   "cell_type": "code",
   "execution_count": 9,
   "id": "8646e4f9",
   "metadata": {},
   "outputs": [
    {
     "name": "stdout",
     "output_type": "stream",
     "text": [
      "ROC+AUC score for Class=0: 0.885\n",
      "ROC+AUC score for Class=1: 0.974\n",
      "ROC+AUC score for Class=2: 0.904\n",
      "ROC+AUC score for Class=3: 0.712\n",
      "ROC+AUC score for Class=4: 0.852\n",
      "ROC+AUC score for Class=5: 0.914\n",
      "ROC+AUC score for Class=6: 0.952\n",
      "ROC+AUC score for Class=7: 0.764\n",
      "ROC+AUC score for Class=8: 0.935\n",
      "ROC+AUC score for Class=9: 0.906\n"
     ]
    }
   ],
   "source": [
    "model3 = torch.load(\"C://Austin//U_Cinci//Sem3//DeepLearning//Austin_Paulraj_Homework2//Implementation_Files//saved_models//run2//ConvNet.pickle\")\n",
    "y_pred = model3(total_dataset[\"x\"][\"test\"][:2000].reshape(2000,1,28,28))\n",
    "y_pred = np.array(softmax(y_pred).detach())\n",
    "y_pred = y_pred.argmax(axis=1)\n",
    "\n",
    "for i in range(10):\n",
    "    y_predi = np.array([(x==i) for x in y_pred])\n",
    "    y_truei = np.array([(x==i) for x in y_true])\n",
    "    print(\"ROC+AUC score for Class=\"+str(i)+\":\", np.round(roc_auc_score(y_truei, y_predi),3))"
   ]
  },
  {
   "cell_type": "code",
   "execution_count": 10,
   "id": "b39c32df",
   "metadata": {},
   "outputs": [
    {
     "name": "stdout",
     "output_type": "stream",
     "text": [
      "ROC+AUC score for Class=0: 0.631\n",
      "ROC+AUC score for Class=1: 0.98\n",
      "ROC+AUC score for Class=2: 0.662\n",
      "ROC+AUC score for Class=3: 0.8\n",
      "ROC+AUC score for Class=4: 0.903\n",
      "ROC+AUC score for Class=5: 0.922\n",
      "ROC+AUC score for Class=6: 0.843\n",
      "ROC+AUC score for Class=7: 0.72\n",
      "ROC+AUC score for Class=8: 0.945\n",
      "ROC+AUC score for Class=9: 0.901\n"
     ]
    }
   ],
   "source": [
    "model4 = torch.load(\"C://Austin//U_Cinci//Sem3//DeepLearning//Austin_Paulraj_Homework2//Implementation_Files//saved_models//run2//DNNNet.pickle\")\n",
    "y_pred = model4(total_dataset[\"x\"][\"test\"][:2000].reshape(2000,784))\n",
    "y_pred = np.array(softmax(y_pred).detach())\n",
    "y_pred = y_pred.argmax(axis=1)\n",
    "\n",
    "for i in range(10):\n",
    "    y_predi = np.array([(x==i) for x in y_pred])\n",
    "    y_truei = np.array([(x==i) for x in y_true])\n",
    "    print(\"ROC+AUC score for Class=\"+str(i)+\":\", np.round(roc_auc_score(y_truei, y_predi),3))"
   ]
  },
  {
   "cell_type": "code",
   "execution_count": 29,
   "id": "956de152",
   "metadata": {},
   "outputs": [],
   "source": [
    "del x_224"
   ]
  },
  {
   "cell_type": "code",
   "execution_count": 11,
   "id": "7107bd79",
   "metadata": {},
   "outputs": [],
   "source": [
    "x_224 = F.interpolate(total_dataset[\"x\"][\"test\"][:2000].unsqueeze(0), size=(224))\n",
    "x_224 = x_224.reshape(20, 100 ,1,224,224)"
   ]
  },
  {
   "cell_type": "code",
   "execution_count": 14,
   "id": "9d64f18e",
   "metadata": {},
   "outputs": [
    {
     "name": "stderr",
     "output_type": "stream",
     "text": [
      "Using cache found in C:\\Users\\Austin Paulraj/.cache\\torch\\hub\\pytorch_vision_v0.10.0\n",
      "C:\\Users\\Austin Paulraj\\AppData\\Roaming\\Python\\Python310\\site-packages\\torchvision\\models\\_utils.py:208: UserWarning: The parameter 'pretrained' is deprecated since 0.13 and may be removed in the future, please use 'weights' instead.\n",
      "  warnings.warn(\n",
      "C:\\Users\\Austin Paulraj\\AppData\\Roaming\\Python\\Python310\\site-packages\\torchvision\\models\\_utils.py:223: UserWarning: Arguments other than a weight enum or `None` for 'weights' are deprecated since 0.13 and may be removed in the future. The current behavior is equivalent to passing `weights=None`.\n",
      "  warnings.warn(msg)\n"
     ]
    }
   ],
   "source": [
    "model5 = RESNet()\n",
    "model5.load_state_dict(torch.load(\"C://Austin//U_Cinci//Sem3//DeepLearning//Austin_Paulraj_Homework2//Implementation_Files//resnet.pickle\", weights_only=True ,map_location=torch.device('cpu')))\n",
    "model5.eval()\n",
    "\n",
    "i=1\n",
    "y_pred = model5(x_224[0])\n",
    "for x in x_224[0:]:\n",
    "    #print(i)\n",
    "    y_pre_aux = model5(x)\n",
    "    del x\n",
    "    y_pred=torch.cat((y_pred,y_pre_aux))\n",
    "    del y_pre_aux\n",
    "    i=i+1\n",
    "y_pred = np.array(softmax(y_pred).detach())\n",
    "y_pred = y_pred.argmax(axis=1)"
   ]
  },
  {
   "cell_type": "code",
   "execution_count": 16,
   "id": "42da49ce",
   "metadata": {},
   "outputs": [
    {
     "name": "stdout",
     "output_type": "stream",
     "text": [
      "ROC+AUC score for Class=0: 0.483\n",
      "ROC+AUC score for Class=1: 0.5\n",
      "ROC+AUC score for Class=2: 0.5\n",
      "ROC+AUC score for Class=3: 0.529\n",
      "ROC+AUC score for Class=4: 0.507\n",
      "ROC+AUC score for Class=5: 0.5\n",
      "ROC+AUC score for Class=6: 0.497\n",
      "ROC+AUC score for Class=7: 0.5\n",
      "ROC+AUC score for Class=8: 0.5\n",
      "ROC+AUC score for Class=9: 0.5\n"
     ]
    }
   ],
   "source": [
    "for i in range(10):\n",
    "    y_predi = np.array([(x==i) for x in y_pred])\n",
    "    y_truei = np.array([(x==i) for x in y_true])\n",
    "    print(\"ROC+AUC score for Class=\"+str(i)+\":\", np.round(roc_auc_score(y_truei, y_predi[:2000]),3))"
   ]
  },
  {
   "cell_type": "code",
   "execution_count": 19,
   "id": "2eb0a45c",
   "metadata": {},
   "outputs": [],
   "source": [
    "model6 = VGGNet()\n",
    "model6.load_state_dict(torch.load(\"C://Austin//U_Cinci//Sem3//DeepLearning//Austin_Paulraj_Homework2//Implementation_Files//vggnet.pickle\", weights_only=True ,map_location=torch.device('cpu')))\n",
    "model6.eval()\n",
    "\n",
    "i=1\n",
    "y_pred = model6(x_224[0])\n",
    "for x in x_224[0:]:\n",
    "    #print(i)\n",
    "    y_pre_aux = model6(x)\n",
    "    del x\n",
    "    y_pred=torch.cat((y_pred,y_pre_aux))\n",
    "    del y_pre_aux\n",
    "    i=i+1\n",
    "y_pred = np.array(softmax(y_pred).detach())\n",
    "y_pred = y_pred.argmax(axis=1)"
   ]
  },
  {
   "cell_type": "code",
   "execution_count": 20,
   "id": "a618b9bf",
   "metadata": {},
   "outputs": [
    {
     "name": "stdout",
     "output_type": "stream",
     "text": [
      "ROC+AUC score for Class=0: 0.5\n",
      "ROC+AUC score for Class=1: 0.52\n",
      "ROC+AUC score for Class=2: 0.513\n",
      "ROC+AUC score for Class=3: 0.53\n",
      "ROC+AUC score for Class=4: 0.516\n",
      "ROC+AUC score for Class=5: 0.527\n",
      "ROC+AUC score for Class=6: 0.514\n",
      "ROC+AUC score for Class=7: 0.526\n",
      "ROC+AUC score for Class=8: 0.541\n",
      "ROC+AUC score for Class=9: 0.523\n"
     ]
    }
   ],
   "source": [
    "for i in range(10):\n",
    "    y_predi = np.array([(x==i) for x in y_pred])\n",
    "    y_truei = np.array([(x==i) for x in y_true])\n",
    "    print(\"ROC+AUC score for Class=\"+str(i)+\":\", np.round(roc_auc_score(y_truei, y_predi[:2000]),3))"
   ]
  }
 ],
 "metadata": {
  "kernelspec": {
   "display_name": "ms_thesis_Env",
   "language": "python",
   "name": "python3"
  },
  "language_info": {
   "codemirror_mode": {
    "name": "ipython",
    "version": 3
   },
   "file_extension": ".py",
   "mimetype": "text/x-python",
   "name": "python",
   "nbconvert_exporter": "python",
   "pygments_lexer": "ipython3",
   "version": "3.10.16"
  }
 },
 "nbformat": 4,
 "nbformat_minor": 5
}
